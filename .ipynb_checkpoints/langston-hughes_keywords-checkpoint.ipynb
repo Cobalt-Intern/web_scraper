{
 "cells": [
  {
   "cell_type": "code",
   "execution_count": 1,
   "id": "ruled-custody",
   "metadata": {},
   "outputs": [],
   "source": [
    "# Download required Libraries\n",
    "from urllib.request import Request, urlopen\n",
    "from bs4 import BeautifulSoup\n",
    "import re\n",
    "\n",
    "# Take in an httprequest and read the webpage from the URL\n",
    "req = Request('https://poets.org/poem/weary-blues', headers={'User-Agent': 'Mozilla/5.0'})\n",
    "webpage = urlopen(req).read()   "
   ]
  },
  {
   "cell_type": "code",
   "execution_count": 2,
   "id": "quality-adult",
   "metadata": {},
   "outputs": [],
   "source": [
    "page = urlopen(req) # intiaializing urlopen and request into the variable \"page\""
   ]
  },
  {
   "cell_type": "code",
   "execution_count": 3,
   "id": "handmade-taxation",
   "metadata": {},
   "outputs": [
    {
     "data": {
      "text/plain": [
       "<http.client.HTTPResponse at 0x20f9e151580>"
      ]
     },
     "execution_count": 3,
     "metadata": {},
     "output_type": "execute_result"
    }
   ],
   "source": [
    "page  # returns our HttpResponse"
   ]
  },
  {
   "cell_type": "code",
   "execution_count": 4,
   "id": "competent-presentation",
   "metadata": {},
   "outputs": [],
   "source": [
    "html_bytes = page.read() # returns a sequence of bytes\n",
    "html = html_bytes.decode(\"utf-8\") # decodes the bytes to a string"
   ]
  },
  {
   "cell_type": "code",
   "execution_count": 5,
   "id": "institutional-concept",
   "metadata": {},
   "outputs": [],
   "source": [
    "#print(html) # prints the html from the webpage"
   ]
  },
  {
   "cell_type": "code",
   "execution_count": 6,
   "id": "elect-breast",
   "metadata": {},
   "outputs": [
    {
     "name": "stdout",
     "output_type": "stream",
     "text": [
      "Number of occurrences of the word : 3\n"
     ]
    }
   ],
   "source": [
    "file = open(r'C:\\Users\\User\\Documents\\Data_Science\\Python\\Web_scrapping\\web_scrapper\\langston_hughes\\langston_text.txt', 'r')\n",
    "    # read content of file to string\n",
    "data = file.read()\n",
    "occurrences = data.count(\"Blues!\") # Count number of Occurences\n",
    "print('Number of occurrences of the word :', occurrences)"
   ]
  },
  {
   "cell_type": "code",
   "execution_count": null,
   "id": "outside-possible",
   "metadata": {},
   "outputs": [],
   "source": []
  }
 ],
 "metadata": {
  "interpreter": {
   "hash": "ac59ebe37160ed0dfa835113d9b8498d9f09ceb179beaac4002f036b9467c963"
  },
  "kernelspec": {
   "display_name": "Python 3",
   "language": "python",
   "name": "python3"
  },
  "language_info": {
   "codemirror_mode": {
    "name": "ipython",
    "version": 3
   },
   "file_extension": ".py",
   "mimetype": "text/x-python",
   "name": "python",
   "nbconvert_exporter": "python",
   "pygments_lexer": "ipython3",
   "version": "3.9.6"
  }
 },
 "nbformat": 4,
 "nbformat_minor": 5
}
